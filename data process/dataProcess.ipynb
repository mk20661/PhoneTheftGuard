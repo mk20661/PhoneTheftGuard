{
 "cells": [
  {
   "cell_type": "code",
   "execution_count": 10,
   "metadata": {},
   "outputs": [],
   "source": [
    "import pandas as pd\n",
    "from shapely import wkt\n",
    "import geopandas as gpd\n",
    "import os\n",
    "from io import StringIO"
   ]
  },
  {
   "cell_type": "code",
   "execution_count": 14,
   "metadata": {},
   "outputs": [
    {
     "name": "stdout",
     "output_type": "stream",
     "text": [
      "   LSOA Code                  LSOA Name    Borough Major Category  \\\n",
      "0  E01000006  Barking and Dagenham 016A  E09000002          THEFT   \n",
      "1  E01000007  Barking and Dagenham 015A  E09000002          THEFT   \n",
      "2  E01000008  Barking and Dagenham 015B  E09000002          THEFT   \n",
      "3  E01000009  Barking and Dagenham 016B  E09000002          THEFT   \n",
      "4  E01000011  Barking and Dagenham 016C  E09000002          THEFT   \n",
      "\n",
      "  Minor Category  202302  202303  202304  202305  202306  ...  202405  202406  \\\n",
      "0    PHONE THEFT       0       1       0       0       0  ...       0       0   \n",
      "1    PHONE THEFT      10       3       2       5       8  ...      11       9   \n",
      "2    PHONE THEFT       2       0       0       1       0  ...       0       0   \n",
      "3    PHONE THEFT       0       1       1       3       3  ...       1       4   \n",
      "4    PHONE THEFT       0       0       0       0       1  ...       0       0   \n",
      "\n",
      "   202407  202408  202409  202410  202411  202412  202501  Refreshed Date  \n",
      "0       0       0       0       0       0       0       0      05/02/2025  \n",
      "1       4       2       8       7      12       9      14      05/02/2025  \n",
      "2       0       0       0       0       0       0       0      05/02/2025  \n",
      "3       1       0       1       2       3       0       1      05/02/2025  \n",
      "4       0       0       1       0       1       0       1      05/02/2025  \n",
      "\n",
      "[5 rows x 30 columns]\n"
     ]
    }
   ],
   "source": [
    "# Load the CSV file\n",
    "df = pd.read_csv('MPS LSOA Level Crime.csv')\n",
    "# Display the first few rows of the DataFrame\n",
    "print(df.head())\n",
    "\n",
    "month_columns = [col for col in df.columns if col.isdigit() and col.startswith(\"20\")]\n",
    "df['otal'] = df[month_columns].sum(axis=1)\n",
    "df = df.drop(columns=['Major Category', 'Minor Category','Refreshed Date'])\n",
    "\n",
    "df.head()\n",
    "\n",
    "df.to_csv(\"PhoneTheftData.csv\", index=False)\n"
   ]
  },
  {
   "cell_type": "code",
   "execution_count": 15,
   "metadata": {},
   "outputs": [
    {
     "name": "stdout",
     "output_type": "stream",
     "text": [
      "Data with full monthly data and geometry saved to: PhoneTheftDataWithGeometry.csv\n",
      "Geometry column preview:\n",
      "0    POLYGON ((0.0898350857932359 51.53982417332992...\n",
      "1    POLYGON ((0.0776356122208071 51.54280048347972...\n",
      "2    POLYGON ((0.068891671808709 51.54171902918915,...\n",
      "3    POLYGON ((0.0837975002438877 51.54203365900032...\n",
      "4    POLYGON ((0.0839140165805131 51.54292735147401...\n",
      "Name: geometry, dtype: object\n",
      "Number of missing geometries: 0\n"
     ]
    }
   ],
   "source": [
    "csv_file = 'PhoneTheftData.csv'\n",
    "shape_dir = 'LB_shp/'\n",
    "output_csv = 'PhoneTheftDataWithGeometry.csv'\n",
    "\n",
    "PhoneTheftDataTotal = pd.read_csv(csv_file)\n",
    "PhoneTheftDataTotal['LSOA Code'] = PhoneTheftDataTotal['LSOA Code'].astype(str)\n",
    "\n",
    "all_data = []\n",
    "for shp_file in os.listdir(shape_dir):\n",
    "    if shp_file.endswith('.shp'):\n",
    "        try:\n",
    "            shp_path = os.path.join(shape_dir, shp_file)\n",
    "            gdf = gpd.read_file(shp_path)\n",
    "            gdf.columns = gdf.columns.str.lower()\n",
    "            gdf = gdf.to_crs(epsg=4326)\n",
    "\n",
    "            if {'lsoa21cd', 'lsoa21nm', 'lad22cd', 'lad22nm', 'geometry'}.issubset(gdf.columns):\n",
    "                gdf['lsoa21cd'] = gdf['lsoa21cd'].astype(str)\n",
    "                all_data.append(gdf[['lsoa21cd', 'lsoa21nm', 'lad22cd', 'lad22nm', 'geometry']])\n",
    "        except Exception as e:\n",
    "            print(f\"Error processing {shp_file}: {e}\")\n",
    "\n",
    "all_data_gdf = pd.concat(all_data, ignore_index=True)\n",
    "\n",
    "all_data_gdf = all_data_gdf.rename(columns={\n",
    "    'lsoa21cd': 'LSOA Code',\n",
    "    'lsoa21nm': 'LSOA Name',\n",
    "    'lad22cd': 'Borough',\n",
    "    'lad22nm': 'Borough Name'\n",
    "})\n",
    "\n",
    "merged_df = pd.merge(PhoneTheftDataTotal, all_data_gdf, on='LSOA Code', how='left')\n",
    "\n",
    "merged_df['geometry'] = merged_df['geometry'].apply(lambda g: g.simplify(0.00001) if g else None)\n",
    "\n",
    "merged_df.to_csv(output_csv, index=False)\n",
    "\n",
    "print(f\"Data with full monthly data and geometry saved to: {output_csv}\")\n",
    "print(\"Geometry column preview:\")\n",
    "print(merged_df['geometry'].head())\n",
    "print(\"Number of missing geometries:\", merged_df['geometry'].isnull().sum())"
   ]
  }
 ],
 "metadata": {
  "kernelspec": {
   "display_name": "base",
   "language": "python",
   "name": "python3"
  },
  "language_info": {
   "codemirror_mode": {
    "name": "ipython",
    "version": 3
   },
   "file_extension": ".py",
   "mimetype": "text/x-python",
   "name": "python",
   "nbconvert_exporter": "python",
   "pygments_lexer": "ipython3",
   "version": "3.12.2"
  }
 },
 "nbformat": 4,
 "nbformat_minor": 2
}
