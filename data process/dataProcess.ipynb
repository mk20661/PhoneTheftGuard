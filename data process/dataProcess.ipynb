{
 "cells": [
  {
   "cell_type": "code",
   "execution_count": 3,
   "metadata": {},
   "outputs": [],
   "source": [
    "import pandas as pd"
   ]
  },
  {
   "cell_type": "code",
   "execution_count": 1,
   "metadata": {},
   "outputs": [
    {
     "name": "stdout",
     "output_type": "stream",
     "text": [
      "    LSOA Code                  LSOA Name    Borough Major Category  \\\n",
      "12  E01000006  Barking and Dagenham 016A  E09000002          THEFT   \n",
      "35  E01000007  Barking and Dagenham 015A  E09000002          THEFT   \n",
      "57  E01000008  Barking and Dagenham 015B  E09000002          THEFT   \n",
      "79  E01000009  Barking and Dagenham 016B  E09000002          THEFT   \n",
      "99  E01000011  Barking and Dagenham 016C  E09000002          THEFT   \n",
      "\n",
      "           Minor Category  202302  202303  202304  202305  202306  ...  \\\n",
      "12  THEFT FROM THE PERSON       0       1       0       0       0  ...   \n",
      "35  THEFT FROM THE PERSON      10       3       2       5       8  ...   \n",
      "57  THEFT FROM THE PERSON       2       0       0       1       0  ...   \n",
      "79  THEFT FROM THE PERSON       0       1       1       3       3  ...   \n",
      "99  THEFT FROM THE PERSON       0       0       0       0       1  ...   \n",
      "\n",
      "    202405  202406  202407  202408  202409  202410  202411  202412  202501  \\\n",
      "12       0       0       0       0       0       0       0       0       0   \n",
      "35      11       9       4       2       8       7      12       9      14   \n",
      "57       0       0       0       0       0       0       0       0       0   \n",
      "79       1       4       1       0       1       2       3       0       1   \n",
      "99       0       0       0       0       1       0       1       0       1   \n",
      "\n",
      "    Refreshed Date  \n",
      "12      05/02/2025  \n",
      "35      05/02/2025  \n",
      "57      05/02/2025  \n",
      "79      05/02/2025  \n",
      "99      05/02/2025  \n",
      "\n",
      "[5 rows x 30 columns]\n"
     ]
    }
   ],
   "source": [
    "import pandas as pd\n",
    "\n",
    "# Load the CSV file\n",
    "file_path = \"MPS LSOA Level Crime.csv\"  # Replace with your file path\n",
    "df = pd.read_csv(file_path)\n",
    "\n",
    "# Filter data where \"Minor Category\" is \"THEFT FROM THE PERSON\"\n",
    "df_theft_person = df[df[\"Minor Category\"] == \"THEFT FROM THE PERSON\"]\n",
    "\n",
    "# Save the filtered data to a new CSV file\n",
    "df_theft_person.to_csv(\"phone_theft_data.csv\", index=False)\n",
    "\n",
    "# Display the first few rows of the filtered data\n",
    "print(df_theft_person.head())"
   ]
  },
  {
   "cell_type": "code",
   "execution_count": null,
   "metadata": {},
   "outputs": [],
   "source": [
    "import pandas as pd\n",
    "\n",
    "excel_file = \"M1045_MonthlyCrimeDashboard_TNOCrimeData.xlsx\" \n",
    "\n",
    "df = pd.read_excel(excel_file)\n",
    "df['date']= pd.to_datetime(df['date'])\n",
    "\n",
    "df['year'] =pd.to_datetime(df['year'])\n",
    "\n",
    "df['month'] =pd.to_datetime(df['month'])\n",
    "\n",
    "print(df.head())\n",
    "print(df.dtypes)\n",
    "print('hello world')\n"
   ]
  }
 ],
 "metadata": {
  "kernelspec": {
   "display_name": "base",
   "language": "python",
   "name": "python3"
  },
  "language_info": {
   "codemirror_mode": {
    "name": "ipython",
    "version": 3
   },
   "file_extension": ".py",
   "mimetype": "text/x-python",
   "name": "python",
   "nbconvert_exporter": "python",
   "pygments_lexer": "ipython3",
   "version": "3.12.2"
  }
 },
 "nbformat": 4,
 "nbformat_minor": 2
}
