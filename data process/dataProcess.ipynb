{
 "cells": [
  {
   "cell_type": "code",
   "execution_count": 3,
   "metadata": {},
   "outputs": [],
   "source": [
    "import pandas as pd"
   ]
  },
  {
   "cell_type": "code",
   "execution_count": 3,
   "metadata": {},
   "outputs": [
    {
     "name": "stdout",
     "output_type": "stream",
     "text": [
      "   LSOA Code                  LSOA Name    Borough Major Category  \\\n",
      "0  E01000006  Barking and Dagenham 016A  E09000002          THEFT   \n",
      "1  E01000007  Barking and Dagenham 015A  E09000002          THEFT   \n",
      "2  E01000008  Barking and Dagenham 015B  E09000002          THEFT   \n",
      "3  E01000009  Barking and Dagenham 016B  E09000002          THEFT   \n",
      "4  E01000011  Barking and Dagenham 016C  E09000002          THEFT   \n",
      "\n",
      "  Minor Category  202302  202303  202304  202305  202306  ...  202405  202406  \\\n",
      "0    PHONE THEFT       0       1       0       0       0  ...       0       0   \n",
      "1    PHONE THEFT      10       3       2       5       8  ...      11       9   \n",
      "2    PHONE THEFT       2       0       0       1       0  ...       0       0   \n",
      "3    PHONE THEFT       0       1       1       3       3  ...       1       4   \n",
      "4    PHONE THEFT       0       0       0       0       1  ...       0       0   \n",
      "\n",
      "   202407  202408  202409  202410  202411  202412  202501  Refreshed Date  \n",
      "0       0       0       0       0       0       0       0      05/02/2025  \n",
      "1       4       2       8       7      12       9      14      05/02/2025  \n",
      "2       0       0       0       0       0       0       0      05/02/2025  \n",
      "3       1       0       1       2       3       0       1      05/02/2025  \n",
      "4       0       0       1       0       1       0       1      05/02/2025  \n",
      "\n",
      "[5 rows x 30 columns]\n"
     ]
    }
   ],
   "source": [
    "import pandas as pd\n",
    "\n",
    "# Load the CSV file\n",
    "file_path = \"MPS LSOA Level Crime.csv\"  # Replace with your file path\n",
    "df = pd.read_csv(file_path)\n",
    "\n",
    "# Filter data where \"Minor Category\" is \"THEFT FROM THE PERSON\"\n",
    "df_theft_person = df[df[\"Minor Category\"] == \"PHONE THEFT\"]\n",
    "\n",
    "# Save the filtered data to a new CSV file\n",
    "df_theft_person.to_csv(\"phone_theft_data.csv\", index=False)\n",
    "\n",
    "# Display the first few rows of the filtered data\n",
    "print(df_theft_person.head())"
   ]
  },
  {
   "cell_type": "code",
   "execution_count": 4,
   "metadata": {},
   "outputs": [
    {
     "name": "stdout",
     "output_type": "stream",
     "text": [
      "   LSOA Code                  LSOA Name    Borough Major Category  \\\n",
      "0  E01000006  Barking and Dagenham 016A  E09000002          THEFT   \n",
      "1  E01000007  Barking and Dagenham 015A  E09000002          THEFT   \n",
      "2  E01000008  Barking and Dagenham 015B  E09000002          THEFT   \n",
      "3  E01000009  Barking and Dagenham 016B  E09000002          THEFT   \n",
      "4  E01000011  Barking and Dagenham 016C  E09000002          THEFT   \n",
      "\n",
      "  Minor Category Refreshed Date  Total  \n",
      "0    PHONE THEFT     05/02/2025      3  \n",
      "1    PHONE THEFT     05/02/2025    175  \n",
      "2    PHONE THEFT     05/02/2025      7  \n",
      "3    PHONE THEFT     05/02/2025     47  \n",
      "4    PHONE THEFT     05/02/2025      4  \n"
     ]
    }
   ],
   "source": [
    "file_path = \"phone_theft_data.csv\"\n",
    "df = pd.read_csv(file_path)\n",
    "\n",
    "time_columns = df_theft_person.columns[5:-1]  # Select time columns\n",
    "df_theft_person[\"Total\"] = df_theft_person[time_columns].sum(axis=1)\n",
    "\n",
    "df_theft_person.drop(columns=time_columns, inplace=True)\n",
    "\n",
    "df_theft_person.to_csv(\"phone_theft_total.csv\", index=False)\n",
    "\n",
    "print(df_theft_person.head())"
   ]
  },
  {
   "cell_type": "code",
   "execution_count": null,
   "metadata": {},
   "outputs": [],
   "source": [
    "theft_data = pd.read_csv('phone_theft_total.csv')"
   ]
  }
 ],
 "metadata": {
  "kernelspec": {
   "display_name": "base",
   "language": "python",
   "name": "python3"
  },
  "language_info": {
   "codemirror_mode": {
    "name": "ipython",
    "version": 3
   },
   "file_extension": ".py",
   "mimetype": "text/x-python",
   "name": "python",
   "nbconvert_exporter": "python",
   "pygments_lexer": "ipython3",
   "version": "3.12.2"
  }
 },
 "nbformat": 4,
 "nbformat_minor": 2
}
